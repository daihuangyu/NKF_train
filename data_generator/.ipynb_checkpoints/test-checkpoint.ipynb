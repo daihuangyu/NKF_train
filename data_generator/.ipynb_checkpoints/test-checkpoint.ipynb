{
 "cells": [
  {
   "cell_type": "code",
   "execution_count": 21,
   "metadata": {},
   "outputs": [],
   "source": [
    "import numpy as np\n",
    "import gpuRIR\n",
    "import soundfile as sf\n",
    "\n",
    "\n",
    "\n",
    "gpuRIR.activateMixedPrecision(False)\n",
    "gpuRIR.activateLUT(True)\n",
    "\n",
    "\n",
    "RIRs = np.random.randn(int(100*16000/1000))\n",
    "RIRs = np.expand_dims(RIRs, 0)\n",
    "RIRs = np.expand_dims(RIRs, 0)\n",
    "RIRs = RIRs.astype(np.float32)\n",
    "\n",
    "farend_speech, _ = sf.read('nearend_speech_fileid_0.wav')\n",
    "energy = np.sum(abs(farend_speech) ** 2) / len(farend_speech)\n",
    "print(energy)\n",
    "echo_signal = gpuRIR.simulateTrajectory(farend_speech, RIRs)\n",
    "echo_signal = echo_signal / np.max(echo_signal)\n",
    "sf.write('./echo.wav', echo_signal, 16000)\n",
    "\n",
    "\n",
    "\n",
    "\n",
    "\n",
    "\n"
   ]
  },
  {
   "cell_type": "code",
   "execution_count": null,
   "metadata": {},
   "outputs": [],
   "source": []
  }
 ],
 "metadata": {
  "kernelspec": {
   "display_name": "gpurir",
   "language": "python",
   "name": "gpurir"
  },
  "language_info": {
   "codemirror_mode": {
    "name": "ipython",
    "version": 3
   },
   "file_extension": ".py",
   "mimetype": "text/x-python",
   "name": "python",
   "nbconvert_exporter": "python",
   "pygments_lexer": "ipython3",
   "version": "3.7.13"
  }
 },
 "nbformat": 4,
 "nbformat_minor": 4
}
